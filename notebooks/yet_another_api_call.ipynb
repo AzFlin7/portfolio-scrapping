{
 "cells": [
  {
   "cell_type": "code",
   "execution_count": 9,
   "metadata": {},
   "outputs": [],
   "source": [
    "from urllib.request import Request, urlopen\n",
    "import json\n",
    "from datetime import datetime, timedelta\n",
    "from iexfinance.stocks import get_historical_data\n",
    "from iexfinance.refdata import get_symbols\n",
    "import os\n",
    "import numpy as np\n",
    "import pandas as pd"
   ]
  },
  {
   "cell_type": "code",
   "execution_count": 10,
   "metadata": {},
   "outputs": [],
   "source": [
    "def read_json(url):\n",
    "    request = Request(url)\n",
    "    response = urlopen(request)\n",
    "    #print(response)\n",
    "    data = response.read()\n",
    "    #print(data)\n",
    "    url2 = json.loads(data)\n",
    "    return url2"
   ]
  },
  {
   "cell_type": "code",
   "execution_count": 44,
   "metadata": {},
   "outputs": [],
   "source": [
    "def get_crypto_marquee():\n",
    "    api_key = os.getenv(\"CC_API\")\n",
    "    ticker_list = [\",BTC,XRP,ETH,LTC,BCH,XLM,\"]\n",
    "    crypto_df = pd.DataFrame()\n",
    "    url = f\"https://min-api.cryptocompare.com/data/pricemulti?fsyms={ticker_list}&tsyms=USD&api_key={api_key}\" \n",
    "    price_dict = read_json(url)\n",
    "    return price_dict"
   ]
  },
  {
   "cell_type": "code",
   "execution_count": 46,
   "metadata": {},
   "outputs": [
    {
     "data": {
      "text/plain": [
       "10009.32"
      ]
     },
     "execution_count": 46,
     "metadata": {},
     "output_type": "execute_result"
    }
   ],
   "source": []
  },
  {
   "cell_type": "code",
   "execution_count": 78,
   "metadata": {},
   "outputs": [],
   "source": [
    "def get_crypto_news():\n",
    "    api_key = os.getenv(\"CC_API\")\n",
    "    url = f\"https://min-api.cryptocompare.com/data/v2/news/?lang=EN&api_key={api_key}\"\n",
    "    request = Request(url)\n",
    "    response = urlopen(request)\n",
    "    data = response.read()\n",
    "    url2 = json.loads(data)\n",
    "    return url2"
   ]
  },
  {
   "cell_type": "code",
   "execution_count": 79,
   "metadata": {},
   "outputs": [],
   "source": [
    "raw_data = get_crypto_news()\n",
    "news1 = f\"{raw_data['Data'][0]['title']}: {raw_data['Data'][0]['body']}. Source: {raw_data['Data'][0]['source']}\"\n",
    "news2 = f\"{raw_data['Data'][1]['title']}: {raw_data['Data'][1]['body']}. Source: {raw_data['Data'][1]['source']}\"\n",
    "news3 = f\"{raw_data['Data'][2]['title']}: {raw_data['Data'][2]['body']}. Source: {raw_data['Data'][2]['source']}\"\n",
    "news4 = f\"{raw_data['Data'][3]['title']}: {raw_data['Data'][3]['body']}. Source: {raw_data['Data'][3]['source']}\"\n",
    "news5 = f\"{raw_data['Data'][4]['title']}: {raw_data['Data'][4]['body']}. Source: {raw_data['Data'][4]['source']}\""
   ]
  },
  {
   "cell_type": "code",
   "execution_count": 74,
   "metadata": {},
   "outputs": [
    {
     "data": {
      "text/plain": [
       "'Swiss University Fights Fake Diplomas With Blockchain Technology: The University of St. Gallen in Switzerland fights fake diplomas by using blockchain technology. Source: cointelegraph'"
      ]
     },
     "execution_count": 74,
     "metadata": {},
     "output_type": "execute_result"
    }
   ],
   "source": [
    "news1"
   ]
  },
  {
   "cell_type": "code",
   "execution_count": null,
   "metadata": {},
   "outputs": [],
   "source": [
    "https://min-api.cryptocompare.com/data/v2/news/?lang=EN"
   ]
  }
 ],
 "metadata": {
  "kernelspec": {
   "display_name": "Python 3",
   "language": "python",
   "name": "python3"
  },
  "language_info": {
   "codemirror_mode": {
    "name": "ipython",
    "version": 3
   },
   "file_extension": ".py",
   "mimetype": "text/x-python",
   "name": "python",
   "nbconvert_exporter": "python",
   "pygments_lexer": "ipython3",
   "version": "3.7.3"
  }
 },
 "nbformat": 4,
 "nbformat_minor": 4
}
