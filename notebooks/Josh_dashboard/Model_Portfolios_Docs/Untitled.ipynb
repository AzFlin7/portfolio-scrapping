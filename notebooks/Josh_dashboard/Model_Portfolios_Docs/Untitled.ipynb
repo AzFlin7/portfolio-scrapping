{
 "cells": [
  {
   "cell_type": "code",
   "execution_count": 9,
   "metadata": {},
   "outputs": [],
   "source": [
    "def get_model_portfolio_tickers (model_portfolio):\n",
    "# Returns a list of ticker symbols for selected model portfolio\n",
    "\n",
    "    fixed_income_portfolio = {'BSV':0.267, 'BIV': 0.138, 'BLV': 0.129, 'VMBS': 0.152, 'BNDX': 0.294, 'FLRN': 0.02}\n",
    "    conservative_portfolio = {'VOO': 0.098, 'VXF': 0.02, 'VEA': 0.06, 'VWO': 0.018, 'BSV': 0.213, 'BIV': 0.11, 'BLV': 0.104, 'VMBS': 0.122, 'BNDX': 0.235, 'FLRN': 0.02}\n",
    "    moderately_conservative_portfolio = {'VOO': 0.195, 'VXF': 0.04, 'VEA': 0.121, 'VWO': 0.036, 'BSV': 0.16, 'BIV': 0.083, 'BLV': 0.083, 'VMBS': 0.091, 'BNDX': 0.176, 'FLRN': 0.02}\n",
    "    balanced_portfolio = {'VOO': 0.244, 'VXF': 0.05, 'VEA': 0.151, 'VWO': 0.045, 'BSV': 0.133, 'BIV': 0.069, 'BLV': 0.065, 'VMBS': 0.076, 'BNDX': 0.147, 'FLRN': 0.02}\n",
    "    moderately_aggressive_portfolio = {'VOO': 0.39, 'VXF': 0.08, 'VEA': 0.241, 'VWO': 0.073, 'BSV': 0.053, 'BIV': 0.028, 'BLV': 0.026, 'VMBS': 0.03, 'BNDX': 0.059, 'FLRN': 0.02}\n",
    "    aggressive_portfolio = {'VOO': 0.39, 'VXF': 0.08, 'VEA': 0.241, 'VWO': 0.073, 'BSV': 0.053, 'BIV': 0.028, 'BLV': 0.026, 'VMBS': 0.03, 'BNDX': 0.059, 'FLRN': 0.02}\n",
    "    all_equity_portfolio = {'VOO': 0.488, 'VXF': 0.10, 'VEA': .301, 'VWO': 0.091, 'FLRN': 0.02}\n",
    "    model_portfolios = [fixed_income_portfolio, conservative_portfolio, moderately_conservative_portfolio, balanced_portfolio, moderately_aggressive_portfolio, aggressive_portfolio, all_equity_portfolio]\n",
    "    \n",
    "    list_of_tickers = []\n",
    "    \n",
    "    for portfolio in model_portfolios:\n",
    "        if model_portfolio == portfolio:\n",
    "            for key in portfolio:\n",
    "                list_of_tickers.append(key)\n",
    "    \n",
    "    return list_of_tickers   \n",
    "    "
   ]
  },
  {
   "cell_type": "code",
   "execution_count": null,
   "metadata": {},
   "outputs": [],
   "source": []
  },
  {
   "cell_type": "code",
   "execution_count": 10,
   "metadata": {},
   "outputs": [
    {
     "data": {
      "text/plain": [
       "[]"
      ]
     },
     "execution_count": 10,
     "metadata": {},
     "output_type": "execute_result"
    }
   ],
   "source": [
    "get_model_portfolio_tickers('fixed_income_portfolio')"
   ]
  },
  {
   "cell_type": "code",
   "execution_count": null,
   "metadata": {},
   "outputs": [],
   "source": []
  },
  {
   "cell_type": "code",
   "execution_count": null,
   "metadata": {},
   "outputs": [],
   "source": []
  }
 ],
 "metadata": {
  "kernelspec": {
   "display_name": "Python 3",
   "language": "python",
   "name": "python3"
  },
  "language_info": {
   "codemirror_mode": {
    "name": "ipython",
    "version": 3
   },
   "file_extension": ".py",
   "mimetype": "text/x-python",
   "name": "python",
   "nbconvert_exporter": "python",
   "pygments_lexer": "ipython3",
   "version": "3.7.3"
  }
 },
 "nbformat": 4,
 "nbformat_minor": 4
}
