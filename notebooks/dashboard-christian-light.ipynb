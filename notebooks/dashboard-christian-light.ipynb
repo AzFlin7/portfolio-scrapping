{
 "cells": [
  {
   "cell_type": "code",
   "execution_count": 6,
   "metadata": {},
   "outputs": [
    {
     "ename": "ModuleNotFoundError",
     "evalue": "No module named 'libs.montecarlo'",
     "output_type": "error",
     "traceback": [
      "\u001b[1;31m---------------------------------------------------------------------------\u001b[0m",
      "\u001b[1;31mModuleNotFoundError\u001b[0m                       Traceback (most recent call last)",
      "\u001b[1;32m<ipython-input-6-1052b0e3d41c>\u001b[0m in \u001b[0;36m<module>\u001b[1;34m\u001b[0m\n\u001b[0;32m      6\u001b[0m \u001b[0mget_ipython\u001b[0m\u001b[1;33m(\u001b[0m\u001b[1;33m)\u001b[0m\u001b[1;33m.\u001b[0m\u001b[0mrun_line_magic\u001b[0m\u001b[1;33m(\u001b[0m\u001b[1;34m'matplotlib'\u001b[0m\u001b[1;33m,\u001b[0m \u001b[1;34m'inline'\u001b[0m\u001b[1;33m)\u001b[0m\u001b[1;33m\u001b[0m\u001b[1;33m\u001b[0m\u001b[0m\n\u001b[0;32m      7\u001b[0m \u001b[1;32mimport\u001b[0m \u001b[0mhvplot\u001b[0m\u001b[1;33m.\u001b[0m\u001b[0mpandas\u001b[0m\u001b[1;33m\u001b[0m\u001b[1;33m\u001b[0m\u001b[0m\n\u001b[1;32m----> 8\u001b[1;33m \u001b[1;32mimport\u001b[0m \u001b[0mlibs\u001b[0m\u001b[1;33m.\u001b[0m\u001b[0mmontecarlo\u001b[0m \u001b[1;32mas\u001b[0m \u001b[0mmc\u001b[0m\u001b[1;33m\u001b[0m\u001b[1;33m\u001b[0m\u001b[0m\n\u001b[0m\u001b[0;32m      9\u001b[0m \u001b[1;32mimport\u001b[0m \u001b[0mseaborn\u001b[0m \u001b[1;32mas\u001b[0m \u001b[0msns\u001b[0m\u001b[1;33m\u001b[0m\u001b[1;33m\u001b[0m\u001b[0m\n\u001b[0;32m     10\u001b[0m \u001b[1;32mimport\u001b[0m \u001b[0mpanel\u001b[0m \u001b[1;32mas\u001b[0m \u001b[0mpn\u001b[0m\u001b[1;33m\u001b[0m\u001b[1;33m\u001b[0m\u001b[0m\n",
      "\u001b[1;31mModuleNotFoundError\u001b[0m: No module named 'libs.montecarlo'"
     ]
    }
   ],
   "source": [
    "import libs\n",
    "import numpy as np\n",
    "import pandas as pd\n",
    "from datetime import datetime, timedelta\n",
    "import matplotlib.pyplot as plt\n",
    "%matplotlib inline\n",
    "import hvplot.pandas\n",
    "import libs.montecarlo as mc\n",
    "import seaborn as sns\n",
    "import panel as pn\n",
    "import libs.apis as apis\n",
    "from panel.interact import interact\n",
    "import random\n",
    "from iexfinance.stocks import get_historical_data\n",
    "import iexfinance as iex\n",
    "from ta import *\n",
    "\n",
    "import os\n",
    "import json\n",
    "from urllib.request import Request, urlopen"
   ]
  },
  {
   "cell_type": "code",
   "execution_count": null,
   "metadata": {},
   "outputs": [],
   "source": [
    "tickers_dict = {\"index\":[\"VOO\"],\n",
    "                \"crypto\":['BTC', 'ETH', 'XRP']}\n",
    "years = 2\n",
    "data_start_date = datetime.now() + timedelta(-365*years)"
   ]
  },
  {
   "cell_type": "code",
   "execution_count": null,
   "metadata": {},
   "outputs": [],
   "source": [
    "portfolio_hist_prices = apis.get_historic_data(ticker = tickers_dict[\"index\"], \n",
    "                                             start_date = data_start_date)\n",
    "#portfolio_hist_prices.head()"
   ]
  },
  {
   "cell_type": "code",
   "execution_count": null,
   "metadata": {},
   "outputs": [],
   "source": [
    "btc_daily_price = apis.get_crypto_daily_price(tickers_dict[\"crypto\"],limit=years*365)\n",
    "#btc_daily_price.head()"
   ]
  },
  {
   "cell_type": "code",
   "execution_count": null,
   "metadata": {},
   "outputs": [],
   "source": [
    "portfolio_hist_prices = pd.concat([portfolio_hist_prices,btc_daily_price],axis=1,join=\"inner\")\n",
    "portfolio_hist_prices.dropna(inplace=True)\n",
    "portfolio_hist_prices = portfolio_hist_prices[(portfolio_hist_prices[portfolio_hist_prices.columns] != 0).all(axis=1)]\n",
    "#portfolio_hist_prices.head()"
   ]
  },
  {
   "cell_type": "code",
   "execution_count": null,
   "metadata": {},
   "outputs": [],
   "source": [
    "portfolio_hist_prices = apis.normalize_dataframe(portfolio_hist_prices)\n",
    "portfolio_daily_retn = portfolio_hist_prices.pct_change().copy()\n",
    "\n",
    "#portfolio_daily_retn"
   ]
  },
  {
   "cell_type": "code",
   "execution_count": null,
   "metadata": {},
   "outputs": [],
   "source": [
    "def corr_plot(portfolio_daily_retn):\n",
    "    \n",
    "    title_font = {'family': 'monospace',\n",
    "            'color':  'blue',\n",
    "            'weight': 'bold',\n",
    "            'size': 15,\n",
    "            }\n",
    "    correlated = portfolio_daily_retn.corr()\n",
    "    # Generate a mask for the upper triangle\n",
    "    mask = np.zeros_like(correlated, dtype=np.bool)\n",
    "    mask[np.triu_indices_from(mask)] = True\n",
    "    \n",
    "    # Set up the matplotlib figure\n",
    "    correlated_plot, ax = plt.subplots(figsize=(7,7))\n",
    "\n",
    "    # Draw the heatmap with the mask and correct aspect ratio\n",
    "    sns.heatmap(correlated, mask=mask, cmap=\"coolwarm\", vmax=1, vmin =-1, center=0,\n",
    "                square=True, linewidths=.5, annot=True\n",
    "                #cbar_kws={\"shrink\": .5}\n",
    "               )\n",
    "    plt.title(f\"Correlation Map of Portfolio\\n\",fontdict=title_font)\n",
    "    ax.set_facecolor(\"aliceblue\")\n",
    "    \n",
    "    #correlated_plot = sns.heatmap(correlated, vmin=-1, vmax=1, annot=True,cmap=\"coolwarm\") \n",
    "    plt.close()\n",
    "    return pn.Pane(correlated_plot)"
   ]
  },
  {
   "cell_type": "markdown",
   "metadata": {},
   "source": [
    "\n",
    "<script async type=\"text/javascript\" src=\"{{https://widgets.coingecko.com/coingecko-coin-price-marquee-widget.js}}\">\n",
    "</script>\n",
    "<coingecko-coin-price-marquee-widget  coin-ids=\"bitcoin,ethereum,litecoin,ripple,zcash\" currency=\"usd\" background-color=\"#ffffff\" locale=\"en\">\n",
    "</coingecko-coin-price-marquee-widget>\n"
   ]
  },
  {
   "cell_type": "code",
   "execution_count": null,
   "metadata": {},
   "outputs": [],
   "source": [
    "def get_corr_pane(portfolio_daily_retn):\n",
    "    marqu_txt = apis.get_marquee_text()   \n",
    "   \n",
    "    footer_text = pn.panel( \n",
    "    marqu_txt, \n",
    "    align = \"center\"\n",
    "    )\n",
    "\n",
    "    side_text = pn.pane.Markdown(\n",
    "'''\n",
    "<style>\n",
    "\n",
    "body {\n",
    "    background-color: #FFFFFF;\n",
    "}\n",
    "\n",
    "mar {\n",
    "  color: #000000;\n",
    "  text-align: center;\n",
    "  font-family: \"Times New Roman\", Times, serif;\n",
    "  font-style: normal;\n",
    "  font-size: 17px;\n",
    "}\n",
    "\n",
    "#leftbox {\n",
    "    color: black;\n",
    "}\n",
    "\n",
    "bold{\n",
    "    font-weight: bold;\n",
    "    color: #993300;\n",
    "    text-align: center;\n",
    "    font-family: \"Times New Roman\", Times, serif;\n",
    "    font-style: oblique;\n",
    "    font-size: 24px;\n",
    "    font-variant: small-caps;\n",
    "}\n",
    "p {\n",
    "  color: #000000;\n",
    "}\n",
    "\n",
    "p1 {\n",
    "  color: #006600;\n",
    "  font-size: 17px;\n",
    "}\n",
    "\n",
    "h1 {\n",
    "    font-size: 30px;\n",
    "    font-variant: small-caps;\n",
    "    font-weight: bold;\n",
    "    font-family: Arial, Helvetica, sans-serif;\n",
    "}\n",
    "\n",
    "h2 {\n",
    "  color: #000000;\n",
    "  font-family: Arial, Helvetica, sans-serif;\n",
    "}\n",
    "\n",
    "h3 {\n",
    "    color: #000000\n",
    "    font-size: 16px;\n",
    "    font-style: italic;\n",
    "}\n",
    "\n",
    "cr {\n",
    "    font-size: 14px;\n",
    "    font-style: italic;\n",
    "    color: #33CCFF;\n",
    "}\n",
    "</style>\n",
    "            \n",
    "<div id=\"leftbox\"> \n",
    "<h1>The Correlation Heat Map</h1>\n",
    "</div>\n",
    "---\n",
    "<h2> What is Correlation?</h2>\n",
    "\n",
    "<p1> Correlation between sets of data is a measure of how well they are related. The most common measure of correlation in stats is the Pearson Correlation. \n",
    "The full name is the Pearson Product Moment Correlation (PPMC). It shows the linear relationship between two sets of data. In simple terms, it answers the question, Can I draw a line graph to represent the data? </p1>\n",
    "<cr><a href='https://www.statisticshowto.datasciencecentral.com/probability-and-statistics/correlation-coefficient-formula/#Pearson', \n",
    "target=\"_blank\"> Statistics How To</a></cr> \n",
    "<br><p>Learn more at <a href='https://www.statisticshowto.datasciencecentral.com/probability-and-statistics/correlation-coefficient-formula/#Pearson', target=\"_blank\">https://www.statisticshowto.datasciencecentral.com/probability-and-statistics/correlation-coefficient-formula/#Pearson</a>\n",
    "''',\n",
    "        align= \"center\",\n",
    "        width_policy = \"max\",\n",
    "    )\n",
    "    \n",
    "    lower_text = pn.pane.Markdown('''\n",
    "<h3><bold>Important:</bold> &nbsp;Correlation does not imply causation!</h3>\n",
    "---\n",
    "        ''',\n",
    "                                  align= \"center\",\n",
    "                                  width_policy = \"max\",\n",
    "                                  margin=(0, 50),\n",
    "                                 )###??????????\n",
    "    #WARNING:param.Markdown11741: Setting non-parameter attribute\n",
    "    #max_with=5 using a mechanism intended only for parameters\n",
    "    left_row = pn.Row(side_text, align=\"start\")\n",
    "    middle_row = pn.Row(corr_plot(portfolio_daily_retn),align=\"center\", width_policy=\"fit\")\n",
    "    both_row = pn.Row(left_row, middle_row)\n",
    "    \n",
    "    corr_pane = pn.Column(both_row,lower_text,footer_text,align=\"center\", sizing_mode='stretch_both')\n",
    "    \n",
    "    return corr_pane\n",
    "    "
   ]
  },
  {
   "cell_type": "code",
   "execution_count": null,
   "metadata": {},
   "outputs": [],
   "source": [
    "get_corr_pane(portfolio_daily_retn)"
   ]
  },
  {
   "cell_type": "code",
   "execution_count": null,
   "metadata": {},
   "outputs": [],
   "source": [
    "def sharp_rt_plot(portfolio_daily_retn):\n",
    "    \n",
    "    title_font = {'family': 'monospace',\n",
    "            'color':  'blue',\n",
    "            'weight': 'bold',\n",
    "            'size': 15,\n",
    "            }\n",
    "    label_font = {'family': 'monospace',\n",
    "            'color':  'green',\n",
    "            'weight': 'bold',\n",
    "            'size': 12,\n",
    "            }\n",
    "   # bar_colors=[\"orange\",\"plum\",\"yellowgreen\",\"indigo\",\"wheat\",\"salmon\",\"lightblue\",\"purple\",\"gold\",\n",
    "    #           \"cornflowerblue\",\"mediumslateblue\",\"seagreen\",\"peru\"]\n",
    "    bar_colors=[\"midnightblue\",\"royalblue\",\"indigo\",\"darkcyan\",\"darkgreen\",\"maroon\",\n",
    "               \"purple\",\"darkorange\",\"slategray\",\"forestgreen\"]\n",
    "\n",
    "    sharp_ratios = portfolio_daily_retn.mean()*np.sqrt(252)/portfolio_daily_retn.std()\n",
    "    \n",
    "    sr_plot = plt.figure();\n",
    "    plt.bar(x = sharp_ratios.index, height=sharp_ratios, color=random.sample(bar_colors,len(sharp_ratios.index)))\n",
    "    plt.title(f\"Sharp Ratios of Portfolio\\n\",fontdict=title_font)\n",
    "    plt.ylabel(\"Sharp Ratio\",fontdict=label_font)\n",
    "    plt.xlabel(\"Assets\",fontdict=label_font)\n",
    "    plt.axhline(sharp_ratios.mean(), color='r')\n",
    "    \n",
    "    \n",
    "    plt.close()\n",
    "    return pn.Pane(sr_plot)"
   ]
  },
  {
   "cell_type": "code",
   "execution_count": null,
   "metadata": {},
   "outputs": [],
   "source": [
    "def get_sharp_pane(portfolio_daily_retn):\n",
    "    marqu_txt = apis.get_marquee_text()   \n",
    "   \n",
    "    m_text = pn.panel( \n",
    "    marqu_txt, \n",
    "    align = \"center\"\n",
    "    )\n",
    "\n",
    "    side_text = pn.pane.Markdown(\n",
    "'''\n",
    "<style>\n",
    "\n",
    "body {\n",
    "    background-color: #FFFFFF;\n",
    "}\n",
    "\n",
    "mar {\n",
    "  color: #000000;\n",
    "  text-align: center;\n",
    "  font-family: \"Times New Roman\", Times, serif;\n",
    "  font-style: normal;\n",
    "  font-size: 17px;\n",
    "}\n",
    "\n",
    "#leftbox {\n",
    "    color: black;\n",
    "}\n",
    "\n",
    "bold{\n",
    "    font-weight: bold;\n",
    "    color: #993300;\n",
    "    text-align: center;\n",
    "    font-family: \"Times New Roman\", Times, serif;\n",
    "    font-style: oblique;\n",
    "    font-size: 24px;\n",
    "    font-variant: small-caps;\n",
    "}\n",
    "p {\n",
    "  color: #000000;\n",
    "}\n",
    "\n",
    "p1 {\n",
    "  color: #006600;\n",
    "  font-size: 17px;\n",
    "}\n",
    "\n",
    "h1 {\n",
    "    font-size: 30px;\n",
    "    font-variant: small-caps;\n",
    "    font-weight: bold;\n",
    "    font-family: Arial, Helvetica, sans-serif;\n",
    "}\n",
    "\n",
    "h2 {\n",
    "  color: #000000;\n",
    "  font-family: Arial, Helvetica, sans-serif;\n",
    "}\n",
    "\n",
    "h3 {\n",
    "    color: #000000\n",
    "    font-size: 15px;\n",
    "    font-style: normal;\n",
    "}\n",
    "\n",
    "cr {\n",
    "    font-size: 14px;\n",
    "    font-style: italic;\n",
    "    color: #33CCFF;\n",
    "}\n",
    "</style>\n",
    "            \n",
    "<div id=\"leftbox\"> \n",
    "<h1>The Sharpe Ratio</h1>\n",
    "</div>\n",
    "---\n",
    "<h2> What is the Sharpe Ratio?</h2>\n",
    "\n",
    "<p1> The Sharpe ratio was developed by Nobel laureate William F. Sharpe and is used to help investors understand the return of an investment compared to its risk. The ratio is the average return earned in excess of the risk-free rate per unit of volatility or total risk.\n",
    "Subtracting the risk-free rate from the mean return allows an investor to better isolate the profits associated with risk-taking activities. Generally, the greater the value of the Sharpe ratio, the more attractive the risk-adjusted return.</p1>\n",
    "<cr><a href='https://https://www.investopedia.com/terms/s/sharperatio.asp', \n",
    "target=\"_blank\"> - Investopedia</a></cr> \n",
    "<br><p>Learn more at <a href='https://https://www.investopedia.com/terms/s/sharperatio.asp', target=\"_blank\">https://https://https://www.investopedia.com/terms/s/sharperatio.asp</a>\n",
    "''',\n",
    "        align= \"center\",\n",
    "        width_policy = \"max\",\n",
    "    )\n",
    "    \n",
    "    lower_text = pn.pane.Markdown('''\n",
    "<h3>The Sharpe ratio is calculated by subtracting the risk-free rate from the return of the portfolio and dividing that result by the standard deviation of the portfolio’s excess return.</h3>\n",
    "---\n",
    "        ''',\n",
    "                                  align= \"center\",\n",
    "                                  width_policy = \"max\",\n",
    "                                  margin=(0, 50),\n",
    "                                 )###??????????\n",
    "    #WARNING:param.Markdown11741: Setting non-parameter attribute\n",
    "    #max_with=5 using a mechanism intended only for parameters\n",
    "    left_row = pn.Row(side_text, align=\"start\")\n",
    "    middle_row = pn.Row(sharp_rt_plot(portfolio_daily_retn),align=\"center\", width_policy=\"fit\")\n",
    "    both_row = pn.Row(left_row, middle_row)\n",
    "    \n",
    "    sharpe_pane = pn.Column(m_text,both_row,lower_text,align=\"center\", sizing_mode='stretch_both')\n",
    "    \n",
    "    return sharpe_pane"
   ]
  },
  {
   "cell_type": "code",
   "execution_count": null,
   "metadata": {},
   "outputs": [],
   "source": [
    "get_sharp_pane(portfolio_daily_retn)"
   ]
  },
  {
   "cell_type": "code",
   "execution_count": null,
   "metadata": {},
   "outputs": [],
   "source": [
    "\n",
    "\n",
    "def plot_mont_carl(monte_carlo_sim):\n",
    "    plot_title = f\"Monte-Carlo Simulation of Portfolio\"\n",
    "    monte_carlo_sim_plot = monte_carlo_sim.hvplot(title=plot_title,figsize=(18,10),legend=False)\n",
    "    return monte_carlo_sim_plot"
   ]
  },
  {
   "cell_type": "code",
   "execution_count": null,
   "metadata": {},
   "outputs": [],
   "source": [
    "def get_conf_interval(db,q=[0.05, 0.95]):\n",
    "    confidence_interval = db.iloc[-1].quantile(q=q)\n",
    "    return confidence_interval"
   ]
  },
  {
   "cell_type": "code",
   "execution_count": null,
   "metadata": {},
   "outputs": [],
   "source": [
    "def plot_conf(values=None,conf=[0,0]):\n",
    "    bar_colors=[\"midnightblue\",\"royalblue\",\"indigo\",\"black\",\"darkcyan\",\"darkgreen\",\n",
    "               \"purple\",\"darkorange\",\"slategray\"]\n",
    "    conifidence_plot = plt.figure(figsize=(12,8));\n",
    "    #plt.plot(values,kind='hist', density=True, bins=20)\n",
    "    plt.hist(x = values,bins=20, color = random.choice(bar_colors))\n",
    "    plt.axvline(conf.iloc[0], color='r')\n",
    "    plt.axvline(conf.iloc[1], color='r')\n",
    "    plt.close()\n",
    "    return pn.Pane(conifidence_plot)"
   ]
  },
  {
   "cell_type": "markdown",
   "metadata": {},
   "source": [
    "#### **New Code for TA functions**\n",
    "_Christian_\n",
    "\n",
    "---"
   ]
  },
  {
   "cell_type": "code",
   "execution_count": null,
   "metadata": {},
   "outputs": [],
   "source": [
    "def get_crypto_olhc(crypto_ticker, allData=False,limit = 90):\n",
    "    \"\"\"\n",
    "    Returns a dataframe with all features needed for ta lib see\n",
    "    https://technical-analysis-library-in-python.readthedocs.io/en/latest/ for more information about ta for python. \n",
    "    Arguments:\n",
    "    cryptoticker: Crypto ticker in string format.\n",
    "    allData: if True, gets all historical data available and ignores argument \"limit\".\n",
    "    By default it is False.\n",
    "    limit: the days from now to get the historical data. By default it's 90.\n",
    "    \"\"\"\n",
    "    api_key = os.getenv(\"CC_API\")\n",
    "\n",
    "    if allData:\n",
    "        url = f\"https://min-api.cryptocompare.com/data/v2/histoday?fsym={crypto_ticker}&tsym=USD&allData=true&api_key={api_key}\"\n",
    "    else:\n",
    "        url = f\"https://min-api.cryptocompare.com/data/v2/histoday?fsym={crypto_ticker}&tsym=USD&limit={limit}&api_key={api_key}\"\n",
    "\n",
    "    raw_data = apis.read_json(url)\n",
    "    crypto_df = pd.DataFrame(raw_data['Data']['Data'])\n",
    "    crypto_df['time'] = pd.to_datetime(crypto_df['time'],unit='s')\n",
    "    ta_df = add_all_ta_features(crypto_df, \"open\", \"high\", \"low\", \"close\", \"volumefrom\", fillna=True)      \n",
    "\n",
    "    return ta_df"
   ]
  },
  {
   "cell_type": "code",
   "execution_count": null,
   "metadata": {},
   "outputs": [],
   "source": [
    "ta_df = get_crypto_olhc('ZEC', allData=False, limit=30)"
   ]
  },
  {
   "cell_type": "code",
   "execution_count": null,
   "metadata": {},
   "outputs": [],
   "source": [
    "ta_df.head()"
   ]
  },
  {
   "cell_type": "code",
   "execution_count": null,
   "metadata": {},
   "outputs": [],
   "source": [
    "def bb_plot(df):\n",
    "    bb_plot = plt.figure(figsize=(12,8));\n",
    "    plt.plot(df.close)\n",
    "    plt.plot(df.volatility_bbh, label='High BB')\n",
    "    plt.plot(df.volatility_bbl, label='Low BB')\n",
    "    plt.plot(df.volatility_bbm, label='EMA BB')\n",
    "    plt.title('Bollinger Bands')\n",
    "    plt.legend()\n",
    "    plt.close()\n",
    "    return pn.Pane(bb_plot)"
   ]
  },
  {
   "cell_type": "code",
   "execution_count": null,
   "metadata": {},
   "outputs": [],
   "source": [
    "def ichi_plot(df):\n",
    "    ichi_plot = plt.figure(figsize=(12,8));\n",
    "    plt.plot(df.close)\n",
    "    plt.plot(df.trend_ichimoku_a, label='Ichimoku a')\n",
    "    plt.plot(df.trend_ichimoku_b, label='Ichimoku b')\n",
    "    plt.title('Ichimoku Kinko Hyo')\n",
    "    plt.legend()\n",
    "    plt.close()\n",
    "    return pn.Pane(ichi_plot)"
   ]
  },
  {
   "cell_type": "code",
   "execution_count": null,
   "metadata": {},
   "outputs": [],
   "source": [
    "def ema_plot(df):\n",
    "    ema_plot = plt.figure(figsize=(12,8));\n",
    "    plt.plot(df.close)\n",
    "    plt.plot(df.volatility_bbm, label='EMA BB')\n",
    "    plt.title('Exponential Moving Average')\n",
    "    plt.legend()\n",
    "    plt.close()\n",
    "    return pn.Pane(ema_plot)"
   ]
  },
  {
   "cell_type": "code",
   "execution_count": null,
   "metadata": {},
   "outputs": [],
   "source": [
    "def macd_plot(df):\n",
    "    macd_plot = plt.figure(figsize=(12,8));\n",
    "    plt.plot(df.trend_macd, label='MACD');\n",
    "    plt.plot(df.trend_macd_signal, label='MACD Signal')\n",
    "    plt.plot(df.trend_macd_diff, label='MACD Difference')\n",
    "    plt.title('MACD, MACD Signal and MACD Difference')\n",
    "    plt.legend()\n",
    "    plt.close()\n",
    "    return pn.Pane(macd_plot)"
   ]
  },
  {
   "cell_type": "markdown",
   "metadata": {},
   "source": [
    "#### End New Code for TA\n",
    "\n",
    "---"
   ]
  },
  {
   "cell_type": "markdown",
   "metadata": {},
   "source": [
    "# DASHBOARD TIME!!!"
   ]
  },
  {
   "cell_type": "code",
   "execution_count": null,
   "metadata": {},
   "outputs": [],
   "source": [
    "#print(portfolio_hist_prices.head())"
   ]
  },
  {
   "cell_type": "code",
   "execution_count": null,
   "metadata": {},
   "outputs": [],
   "source": [
    "portfolio_hist_prices = portfolio_hist_prices[(portfolio_hist_prices[portfolio_hist_prices.columns] != 0).all(axis=1)]\n",
    "#portfolio_hist_prices.any()\n",
    "#portfolio_hist_prices.head()"
   ]
  },
  {
   "cell_type": "code",
   "execution_count": null,
   "metadata": {},
   "outputs": [],
   "source": [
    "mc_sim = mc.monte_carlo_sim(portfolio_hist_prices,trials = 50)"
   ]
  },
  {
   "cell_type": "code",
   "execution_count": null,
   "metadata": {},
   "outputs": [],
   "source": [
    "risk_tabs = pn.Tabs(\n",
    "    (\"Correlation of portfolio\",get_corr_pane(portfolio_daily_retn)),\n",
    "    (\"Sharp Ratios\", get_sharp_pane(portfolio_daily_retn)),\n",
    "#    background=\"whitesmoke\"\n",
    ")"
   ]
  },
  {
   "cell_type": "code",
   "execution_count": null,
   "metadata": {},
   "outputs": [],
   "source": [
    "montecarlo_tabs = pn.Tabs(\n",
    "    (\"monte Carlo Simulation\",plot_mont_carl(mc_sim)),\n",
    "    (\"Confidence Intervals\", plot_conf(mc_sim.iloc[-1],get_conf_interval(mc_sim))),\n",
    "#    background=\"whitesmoke\"\n",
    ")"
   ]
  },
  {
   "cell_type": "code",
   "execution_count": null,
   "metadata": {},
   "outputs": [],
   "source": [
    "\n",
    "techl_analysis_tabs = pn.Tabs(\n",
    "    (\"Exp. Moving Avg.\",ema_plot(ta_df)),\n",
    "    (\"Bollinger Bands\", bb_plot(ta_df)),\n",
    "    (\"MACD\",macd_plot(ta_df)),\n",
    "    (\"Ichimoku Kinkō Hyō\", ichi_plot(ta_df)),\n",
    "#    background=\"whitesmoke\"\n",
    ")"
   ]
  },
  {
   "cell_type": "code",
   "execution_count": null,
   "metadata": {},
   "outputs": [],
   "source": [
    "tabs = pn.Tabs(\n",
    "    (\"Risk\",risk_tabs),\n",
    "    (\"Monte Carlo Simulation\", montecarlo_tabs),\n",
    "    (\"Tecnical Analysis\", techl_analysis_tabs),\n",
    "    (\"Report\", \"in construction\"),\n",
    "    tabs_location = \"left\",\n",
    "    align = \"start\"\n",
    ")\n",
    "  "
   ]
  },
  {
   "cell_type": "code",
   "execution_count": null,
   "metadata": {},
   "outputs": [],
   "source": [
    "  \n",
    "panel = tabs\n",
    "\n",
    "panel.show()"
   ]
  },
  {
   "cell_type": "code",
   "execution_count": null,
   "metadata": {},
   "outputs": [],
   "source": []
  },
  {
   "cell_type": "code",
   "execution_count": null,
   "metadata": {},
   "outputs": [],
   "source": []
  }
 ],
 "metadata": {
  "kernelspec": {
   "display_name": "Python 3",
   "language": "python",
   "name": "python3"
  },
  "language_info": {
   "codemirror_mode": {
    "name": "ipython",
    "version": 3
   },
   "file_extension": ".py",
   "mimetype": "text/x-python",
   "name": "python",
   "nbconvert_exporter": "python",
   "pygments_lexer": "ipython3",
   "version": "3.7.3"
  }
 },
 "nbformat": 4,
 "nbformat_minor": 4
}
